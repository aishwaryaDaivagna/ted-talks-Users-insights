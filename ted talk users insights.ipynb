{
 "cells": [
  {
   "cell_type": "markdown",
   "id": "c001fa1d",
   "metadata": {
    "papermill": {
     "duration": 0.02662,
     "end_time": "2024-01-15T12:22:02.007137",
     "exception": false,
     "start_time": "2024-01-15T12:22:01.980517",
     "status": "completed"
    },
    "tags": []
   },
   "source": [
    "# TED Talk Data Analysis"
   ]
  },
  {
   "cell_type": "code",
   "execution_count": 1,
   "id": "1a4c9f6f",
   "metadata": {
    "execution": {
     "iopub.execute_input": "2024-01-15T12:22:02.066835Z",
     "iopub.status.busy": "2024-01-15T12:22:02.066014Z",
     "iopub.status.idle": "2024-01-15T12:22:03.357377Z",
     "shell.execute_reply": "2024-01-15T12:22:03.358116Z",
     "shell.execute_reply.started": "2024-01-14T10:36:13.564769Z"
    },
    "papermill": {
     "duration": 1.325098,
     "end_time": "2024-01-15T12:22:03.358345",
     "exception": false,
     "start_time": "2024-01-15T12:22:02.033247",
     "status": "completed"
    },
    "tags": []
   },
   "outputs": [
    {
     "name": "stderr",
     "output_type": "stream",
     "text": [
      "C:\\Users\\Aishwarya\\anaconda3\\lib\\site-packages\\pandas\\core\\computation\\expressions.py:21: UserWarning: Pandas requires version '2.8.4' or newer of 'numexpr' (version '2.8.3' currently installed).\n",
      "  from pandas.core.computation.check import NUMEXPR_INSTALLED\n",
      "C:\\Users\\Aishwarya\\anaconda3\\lib\\site-packages\\pandas\\core\\arrays\\masked.py:60: UserWarning: Pandas requires version '1.3.6' or newer of 'bottleneck' (version '1.3.5' currently installed).\n",
      "  from pandas.core import (\n"
     ]
    }
   ],
   "source": [
    "## Import the libaries\n",
    "import numpy as np\n",
    "import pandas as pd\n",
    "import matplotlib.pyplot as plt\n",
    "import seaborn as sns\n",
    "%matplotlib inline"
   ]
  },
  {
   "cell_type": "code",
   "execution_count": 6,
   "id": "8c19b082",
   "metadata": {
    "execution": {
     "iopub.execute_input": "2024-01-15T12:22:03.417720Z",
     "iopub.status.busy": "2024-01-15T12:22:03.415473Z",
     "iopub.status.idle": "2024-01-15T12:22:03.470245Z",
     "shell.execute_reply": "2024-01-15T12:22:03.471285Z",
     "shell.execute_reply.started": "2024-01-14T10:36:14.824290Z"
    },
    "papermill": {
     "duration": 0.085832,
     "end_time": "2024-01-15T12:22:03.471526",
     "exception": false,
     "start_time": "2024-01-15T12:22:03.385694",
     "status": "completed"
    },
    "tags": []
   },
   "outputs": [],
   "source": [
    "## Load the dataset\n",
    "\n",
    "df = pd.read_csv(\"/Users/Aishwarya/Desktop/data scientist/ted_talks.csv\")"
   ]
  },
  {
   "cell_type": "code",
   "execution_count": 7,
   "id": "3b6bff85",
   "metadata": {
    "execution": {
     "iopub.execute_input": "2024-01-15T12:22:03.533021Z",
     "iopub.status.busy": "2024-01-15T12:22:03.532168Z",
     "iopub.status.idle": "2024-01-15T12:22:03.549865Z",
     "shell.execute_reply": "2024-01-15T12:22:03.550463Z",
     "shell.execute_reply.started": "2024-01-14T10:36:14.885835Z"
    },
    "papermill": {
     "duration": 0.052927,
     "end_time": "2024-01-15T12:22:03.550673",
     "exception": false,
     "start_time": "2024-01-15T12:22:03.497746",
     "status": "completed"
    },
    "tags": []
   },
   "outputs": [
    {
     "data": {
      "text/html": [
       "<div>\n",
       "<style scoped>\n",
       "    .dataframe tbody tr th:only-of-type {\n",
       "        vertical-align: middle;\n",
       "    }\n",
       "\n",
       "    .dataframe tbody tr th {\n",
       "        vertical-align: top;\n",
       "    }\n",
       "\n",
       "    .dataframe thead th {\n",
       "        text-align: right;\n",
       "    }\n",
       "</style>\n",
       "<table border=\"1\" class=\"dataframe\">\n",
       "  <thead>\n",
       "    <tr style=\"text-align: right;\">\n",
       "      <th></th>\n",
       "      <th>title</th>\n",
       "      <th>author</th>\n",
       "      <th>date</th>\n",
       "      <th>views</th>\n",
       "      <th>likes</th>\n",
       "      <th>link</th>\n",
       "    </tr>\n",
       "  </thead>\n",
       "  <tbody>\n",
       "    <tr>\n",
       "      <th>0</th>\n",
       "      <td>Climate action needs new frontline leadership</td>\n",
       "      <td>Ozawa Bineshi Albert</td>\n",
       "      <td>December 2021</td>\n",
       "      <td>404000</td>\n",
       "      <td>12000</td>\n",
       "      <td>https://ted.com/talks/ozawa_bineshi_albert_cli...</td>\n",
       "    </tr>\n",
       "    <tr>\n",
       "      <th>1</th>\n",
       "      <td>The dark history of the overthrow of Hawaii</td>\n",
       "      <td>Sydney Iaukea</td>\n",
       "      <td>February 2022</td>\n",
       "      <td>214000</td>\n",
       "      <td>6400</td>\n",
       "      <td>https://ted.com/talks/sydney_iaukea_the_dark_h...</td>\n",
       "    </tr>\n",
       "    <tr>\n",
       "      <th>2</th>\n",
       "      <td>How play can spark new ideas for your business</td>\n",
       "      <td>Martin Reeves</td>\n",
       "      <td>September 2021</td>\n",
       "      <td>412000</td>\n",
       "      <td>12000</td>\n",
       "      <td>https://ted.com/talks/martin_reeves_how_play_c...</td>\n",
       "    </tr>\n",
       "    <tr>\n",
       "      <th>3</th>\n",
       "      <td>Why is China appointing judges to combat clima...</td>\n",
       "      <td>James K. Thornton</td>\n",
       "      <td>October 2021</td>\n",
       "      <td>427000</td>\n",
       "      <td>12000</td>\n",
       "      <td>https://ted.com/talks/james_k_thornton_why_is_...</td>\n",
       "    </tr>\n",
       "    <tr>\n",
       "      <th>4</th>\n",
       "      <td>Cement's carbon problem — and 2 ways to fix it</td>\n",
       "      <td>Mahendra Singhi</td>\n",
       "      <td>October 2021</td>\n",
       "      <td>2400</td>\n",
       "      <td>72</td>\n",
       "      <td>https://ted.com/talks/mahendra_singhi_cement_s...</td>\n",
       "    </tr>\n",
       "  </tbody>\n",
       "</table>\n",
       "</div>"
      ],
      "text/plain": [
       "                                               title                author  \\\n",
       "0      Climate action needs new frontline leadership  Ozawa Bineshi Albert   \n",
       "1        The dark history of the overthrow of Hawaii         Sydney Iaukea   \n",
       "2     How play can spark new ideas for your business         Martin Reeves   \n",
       "3  Why is China appointing judges to combat clima...     James K. Thornton   \n",
       "4     Cement's carbon problem — and 2 ways to fix it       Mahendra Singhi   \n",
       "\n",
       "             date   views  likes  \\\n",
       "0   December 2021  404000  12000   \n",
       "1   February 2022  214000   6400   \n",
       "2  September 2021  412000  12000   \n",
       "3    October 2021  427000  12000   \n",
       "4    October 2021    2400     72   \n",
       "\n",
       "                                                link  \n",
       "0  https://ted.com/talks/ozawa_bineshi_albert_cli...  \n",
       "1  https://ted.com/talks/sydney_iaukea_the_dark_h...  \n",
       "2  https://ted.com/talks/martin_reeves_how_play_c...  \n",
       "3  https://ted.com/talks/james_k_thornton_why_is_...  \n",
       "4  https://ted.com/talks/mahendra_singhi_cement_s...  "
      ]
     },
     "execution_count": 7,
     "metadata": {},
     "output_type": "execute_result"
    }
   ],
   "source": [
    "df.head()"
   ]
  },
  {
   "cell_type": "code",
   "execution_count": 8,
   "id": "14c60c42",
   "metadata": {
    "execution": {
     "iopub.execute_input": "2024-01-15T12:22:03.607903Z",
     "iopub.status.busy": "2024-01-15T12:22:03.607146Z",
     "iopub.status.idle": "2024-01-15T12:22:03.637626Z",
     "shell.execute_reply": "2024-01-15T12:22:03.638341Z",
     "shell.execute_reply.started": "2024-01-14T10:36:14.913445Z"
    },
    "papermill": {
     "duration": 0.060918,
     "end_time": "2024-01-15T12:22:03.638545",
     "exception": false,
     "start_time": "2024-01-15T12:22:03.577627",
     "status": "completed"
    },
    "tags": []
   },
   "outputs": [
    {
     "name": "stdout",
     "output_type": "stream",
     "text": [
      "<class 'pandas.core.frame.DataFrame'>\n",
      "RangeIndex: 5440 entries, 0 to 5439\n",
      "Data columns (total 6 columns):\n",
      " #   Column  Non-Null Count  Dtype \n",
      "---  ------  --------------  ----- \n",
      " 0   title   5440 non-null   object\n",
      " 1   author  5439 non-null   object\n",
      " 2   date    5440 non-null   object\n",
      " 3   views   5440 non-null   int64 \n",
      " 4   likes   5440 non-null   int64 \n",
      " 5   link    5440 non-null   object\n",
      "dtypes: int64(2), object(4)\n",
      "memory usage: 255.1+ KB\n"
     ]
    }
   ],
   "source": [
    "df.info()"
   ]
  },
  {
   "cell_type": "code",
   "execution_count": 9,
   "id": "008637fb",
   "metadata": {
    "execution": {
     "iopub.execute_input": "2024-01-15T12:22:03.708819Z",
     "iopub.status.busy": "2024-01-15T12:22:03.705307Z",
     "iopub.status.idle": "2024-01-15T12:22:03.711821Z",
     "shell.execute_reply": "2024-01-15T12:22:03.712474Z",
     "shell.execute_reply.started": "2024-01-14T10:36:14.947837Z"
    },
    "papermill": {
     "duration": 0.04513,
     "end_time": "2024-01-15T12:22:03.712675",
     "exception": false,
     "start_time": "2024-01-15T12:22:03.667545",
     "status": "completed"
    },
    "tags": []
   },
   "outputs": [
    {
     "data": {
      "text/plain": [
       "title     0\n",
       "author    1\n",
       "date      0\n",
       "views     0\n",
       "likes     0\n",
       "link      0\n",
       "dtype: int64"
      ]
     },
     "execution_count": 9,
     "metadata": {},
     "output_type": "execute_result"
    }
   ],
   "source": [
    "df.isnull().sum()"
   ]
  },
  {
   "cell_type": "code",
   "execution_count": 10,
   "id": "859eb209",
   "metadata": {
    "execution": {
     "iopub.execute_input": "2024-01-15T12:22:03.779220Z",
     "iopub.status.busy": "2024-01-15T12:22:03.778277Z",
     "iopub.status.idle": "2024-01-15T12:22:03.782814Z",
     "shell.execute_reply": "2024-01-15T12:22:03.782039Z",
     "shell.execute_reply.started": "2024-01-14T10:36:14.966398Z"
    },
    "papermill": {
     "duration": 0.04266,
     "end_time": "2024-01-15T12:22:03.782974",
     "exception": false,
     "start_time": "2024-01-15T12:22:03.740314",
     "status": "completed"
    },
    "tags": []
   },
   "outputs": [],
   "source": [
    "## Drop the null value\n",
    "\n",
    "df = df.dropna(axis = 0,how = 'any')"
   ]
  },
  {
   "cell_type": "code",
   "execution_count": 11,
   "id": "a98bb18f",
   "metadata": {
    "execution": {
     "iopub.execute_input": "2024-01-15T12:22:03.842315Z",
     "iopub.status.busy": "2024-01-15T12:22:03.841534Z",
     "iopub.status.idle": "2024-01-15T12:22:03.852832Z",
     "shell.execute_reply": "2024-01-15T12:22:03.853446Z",
     "shell.execute_reply.started": "2024-01-14T10:36:14.984896Z"
    },
    "papermill": {
     "duration": 0.042998,
     "end_time": "2024-01-15T12:22:03.853660",
     "exception": false,
     "start_time": "2024-01-15T12:22:03.810662",
     "status": "completed"
    },
    "tags": []
   },
   "outputs": [
    {
     "data": {
      "text/plain": [
       "title     0\n",
       "author    0\n",
       "date      0\n",
       "views     0\n",
       "likes     0\n",
       "link      0\n",
       "dtype: int64"
      ]
     },
     "execution_count": 11,
     "metadata": {},
     "output_type": "execute_result"
    }
   ],
   "source": [
    "## After removing the null value\n",
    "\n",
    "df.isnull().sum()"
   ]
  },
  {
   "cell_type": "markdown",
   "id": "deece53c",
   "metadata": {
    "papermill": {
     "duration": 0.028801,
     "end_time": "2024-01-15T12:22:03.911673",
     "exception": false,
     "start_time": "2024-01-15T12:22:03.882872",
     "status": "completed"
    },
    "tags": []
   },
   "source": [
    "# Finding the most popular TED talks"
   ]
  },
  {
   "cell_type": "code",
   "execution_count": 12,
   "id": "d76e0f51",
   "metadata": {
    "execution": {
     "iopub.execute_input": "2024-01-15T12:22:03.976501Z",
     "iopub.status.busy": "2024-01-15T12:22:03.975723Z",
     "iopub.status.idle": "2024-01-15T12:22:03.997196Z",
     "shell.execute_reply": "2024-01-15T12:22:03.996391Z",
     "shell.execute_reply.started": "2024-01-14T10:36:15.004185Z"
    },
    "papermill": {
     "duration": 0.053917,
     "end_time": "2024-01-15T12:22:03.997362",
     "exception": false,
     "start_time": "2024-01-15T12:22:03.943445",
     "status": "completed"
    },
    "tags": []
   },
   "outputs": [
    {
     "data": {
      "text/html": [
       "<div>\n",
       "<style scoped>\n",
       "    .dataframe tbody tr th:only-of-type {\n",
       "        vertical-align: middle;\n",
       "    }\n",
       "\n",
       "    .dataframe tbody tr th {\n",
       "        vertical-align: top;\n",
       "    }\n",
       "\n",
       "    .dataframe thead th {\n",
       "        text-align: right;\n",
       "    }\n",
       "</style>\n",
       "<table border=\"1\" class=\"dataframe\">\n",
       "  <thead>\n",
       "    <tr style=\"text-align: right;\">\n",
       "      <th></th>\n",
       "      <th>title</th>\n",
       "      <th>author</th>\n",
       "      <th>date</th>\n",
       "      <th>views</th>\n",
       "      <th>likes</th>\n",
       "      <th>link</th>\n",
       "    </tr>\n",
       "  </thead>\n",
       "  <tbody>\n",
       "    <tr>\n",
       "      <th>5436</th>\n",
       "      <td>Do schools kill creativity?</td>\n",
       "      <td>Sir Ken Robinson</td>\n",
       "      <td>February 2006</td>\n",
       "      <td>72000000</td>\n",
       "      <td>2100000</td>\n",
       "      <td>https://ted.com/talks/sir_ken_robinson_do_scho...</td>\n",
       "    </tr>\n",
       "    <tr>\n",
       "      <th>4084</th>\n",
       "      <td>Your body language may shape who you are</td>\n",
       "      <td>Amy Cuddy</td>\n",
       "      <td>June 2012</td>\n",
       "      <td>64000000</td>\n",
       "      <td>1900000</td>\n",
       "      <td>https://ted.com/talks/amy_cuddy_your_body_lang...</td>\n",
       "    </tr>\n",
       "    <tr>\n",
       "      <th>2958</th>\n",
       "      <td>Inside the mind of a master procrastinator</td>\n",
       "      <td>Tim Urban</td>\n",
       "      <td>February 2016</td>\n",
       "      <td>60000000</td>\n",
       "      <td>1800000</td>\n",
       "      <td>https://ted.com/talks/tim_urban_inside_the_min...</td>\n",
       "    </tr>\n",
       "    <tr>\n",
       "      <th>4765</th>\n",
       "      <td>How great leaders inspire action</td>\n",
       "      <td>Simon Sinek</td>\n",
       "      <td>September 2009</td>\n",
       "      <td>57000000</td>\n",
       "      <td>1700000</td>\n",
       "      <td>https://ted.com/talks/simon_sinek_how_great_le...</td>\n",
       "    </tr>\n",
       "    <tr>\n",
       "      <th>4605</th>\n",
       "      <td>The power of vulnerability</td>\n",
       "      <td>Brené Brown</td>\n",
       "      <td>June 2010</td>\n",
       "      <td>56000000</td>\n",
       "      <td>1700000</td>\n",
       "      <td>https://ted.com/talks/brene_brown_the_power_of...</td>\n",
       "    </tr>\n",
       "    <tr>\n",
       "      <th>...</th>\n",
       "      <td>...</td>\n",
       "      <td>...</td>\n",
       "      <td>...</td>\n",
       "      <td>...</td>\n",
       "      <td>...</td>\n",
       "      <td>...</td>\n",
       "    </tr>\n",
       "    <tr>\n",
       "      <th>478</th>\n",
       "      <td>The case for public media</td>\n",
       "      <td>Qi Wu 吴琪</td>\n",
       "      <td>November 2020</td>\n",
       "      <td>1500</td>\n",
       "      <td>47</td>\n",
       "      <td>https://ted.com/talks/qi_wu_the_case_for_publi...</td>\n",
       "    </tr>\n",
       "    <tr>\n",
       "      <th>1692</th>\n",
       "      <td>\"Part II. The Journey Through Time\" / \"Ruslan ...</td>\n",
       "      <td>Deutsche Philharmonie Merck</td>\n",
       "      <td>November 2018</td>\n",
       "      <td>1300</td>\n",
       "      <td>40</td>\n",
       "      <td>https://ted.com/talks/deutsche_philharmonie_me...</td>\n",
       "    </tr>\n",
       "    <tr>\n",
       "      <th>1064</th>\n",
       "      <td>\"Jamie Raeburn\" / \"Baloo Baleerie\" / \"Twa recr...</td>\n",
       "      <td>Findlay Napier and Gillian Frame</td>\n",
       "      <td>July 2019</td>\n",
       "      <td>1300</td>\n",
       "      <td>40</td>\n",
       "      <td>https://ted.com/talks/findlay_napier_and_gilli...</td>\n",
       "    </tr>\n",
       "    <tr>\n",
       "      <th>552</th>\n",
       "      <td>Virtual Worlds</td>\n",
       "      <td>Far Flung</td>\n",
       "      <td>November 2020</td>\n",
       "      <td>1300</td>\n",
       "      <td>39</td>\n",
       "      <td>https://ted.com/talks/far_flung_virtual_worlds</td>\n",
       "    </tr>\n",
       "    <tr>\n",
       "      <th>613</th>\n",
       "      <td>Post-Pandemic Paradise in Rapa Nui</td>\n",
       "      <td>Far Flung</td>\n",
       "      <td>October 2020</td>\n",
       "      <td>1200</td>\n",
       "      <td>37</td>\n",
       "      <td>https://ted.com/talks/far_flung_post_pandemic_...</td>\n",
       "    </tr>\n",
       "  </tbody>\n",
       "</table>\n",
       "<p>5439 rows × 6 columns</p>\n",
       "</div>"
      ],
      "text/plain": [
       "                                                  title  \\\n",
       "5436                        Do schools kill creativity?   \n",
       "4084           Your body language may shape who you are   \n",
       "2958         Inside the mind of a master procrastinator   \n",
       "4765                   How great leaders inspire action   \n",
       "4605                         The power of vulnerability   \n",
       "...                                                 ...   \n",
       "478                           The case for public media   \n",
       "1692  \"Part II. The Journey Through Time\" / \"Ruslan ...   \n",
       "1064  \"Jamie Raeburn\" / \"Baloo Baleerie\" / \"Twa recr...   \n",
       "552                                      Virtual Worlds   \n",
       "613                  Post-Pandemic Paradise in Rapa Nui   \n",
       "\n",
       "                                author            date     views    likes  \\\n",
       "5436                  Sir Ken Robinson   February 2006  72000000  2100000   \n",
       "4084                         Amy Cuddy       June 2012  64000000  1900000   \n",
       "2958                         Tim Urban   February 2016  60000000  1800000   \n",
       "4765                       Simon Sinek  September 2009  57000000  1700000   \n",
       "4605                       Brené Brown       June 2010  56000000  1700000   \n",
       "...                                ...             ...       ...      ...   \n",
       "478                           Qi Wu 吴琪   November 2020      1500       47   \n",
       "1692       Deutsche Philharmonie Merck   November 2018      1300       40   \n",
       "1064  Findlay Napier and Gillian Frame       July 2019      1300       40   \n",
       "552                          Far Flung   November 2020      1300       39   \n",
       "613                          Far Flung    October 2020      1200       37   \n",
       "\n",
       "                                                   link  \n",
       "5436  https://ted.com/talks/sir_ken_robinson_do_scho...  \n",
       "4084  https://ted.com/talks/amy_cuddy_your_body_lang...  \n",
       "2958  https://ted.com/talks/tim_urban_inside_the_min...  \n",
       "4765  https://ted.com/talks/simon_sinek_how_great_le...  \n",
       "4605  https://ted.com/talks/brene_brown_the_power_of...  \n",
       "...                                                 ...  \n",
       "478   https://ted.com/talks/qi_wu_the_case_for_publi...  \n",
       "1692  https://ted.com/talks/deutsche_philharmonie_me...  \n",
       "1064  https://ted.com/talks/findlay_napier_and_gilli...  \n",
       "552      https://ted.com/talks/far_flung_virtual_worlds  \n",
       "613   https://ted.com/talks/far_flung_post_pandemic_...  \n",
       "\n",
       "[5439 rows x 6 columns]"
      ]
     },
     "execution_count": 12,
     "metadata": {},
     "output_type": "execute_result"
    }
   ],
   "source": [
    "## Finding the most popular TED Talks in terms of 'views'\n",
    "df.sort_values(by = 'views', ascending = False)"
   ]
  },
  {
   "cell_type": "markdown",
   "id": "f25dcb21",
   "metadata": {
    "papermill": {
     "duration": 0.030165,
     "end_time": "2024-01-15T12:22:04.058342",
     "exception": false,
     "start_time": "2024-01-15T12:22:04.028177",
     "status": "completed"
    },
    "tags": []
   },
   "source": [
    "# Finding the most popular TED talks Speaker"
   ]
  },
  {
   "cell_type": "code",
   "execution_count": 13,
   "id": "e4a1ca6c",
   "metadata": {
    "execution": {
     "iopub.execute_input": "2024-01-15T12:22:04.130722Z",
     "iopub.status.busy": "2024-01-15T12:22:04.125516Z",
     "iopub.status.idle": "2024-01-15T12:22:04.138468Z",
     "shell.execute_reply": "2024-01-15T12:22:04.139201Z",
     "shell.execute_reply.started": "2024-01-14T10:36:15.034823Z"
    },
    "papermill": {
     "duration": 0.049453,
     "end_time": "2024-01-15T12:22:04.139397",
     "exception": false,
     "start_time": "2024-01-15T12:22:04.089944",
     "status": "completed"
    },
    "tags": []
   },
   "outputs": [
    {
     "data": {
      "text/plain": [
       "author\n",
       "Alex Gendler        45\n",
       "Iseult Gillespie    33\n",
       "Matt Walker         18\n",
       "Alex Rosenthal      15\n",
       "Elizabeth Cox       13\n",
       "dtype: int64"
      ]
     },
     "execution_count": 13,
     "metadata": {},
     "output_type": "execute_result"
    }
   ],
   "source": [
    "df.groupby('author').size().sort_values(ascending = False).head()"
   ]
  },
  {
   "cell_type": "markdown",
   "id": "1eac43a0",
   "metadata": {
    "papermill": {
     "duration": 0.031436,
     "end_time": "2024-01-15T12:22:04.201196",
     "exception": false,
     "start_time": "2024-01-15T12:22:04.169760",
     "status": "completed"
    },
    "tags": []
   },
   "source": [
    "# Month wise analysis of TED talk frequency"
   ]
  },
  {
   "cell_type": "code",
   "execution_count": 14,
   "id": "8fbfd0ca",
   "metadata": {
    "execution": {
     "iopub.execute_input": "2024-01-15T12:22:04.276435Z",
     "iopub.status.busy": "2024-01-15T12:22:04.264022Z",
     "iopub.status.idle": "2024-01-15T12:22:04.311311Z",
     "shell.execute_reply": "2024-01-15T12:22:04.310678Z",
     "shell.execute_reply.started": "2024-01-14T10:36:15.054555Z"
    },
    "papermill": {
     "duration": 0.080213,
     "end_time": "2024-01-15T12:22:04.311483",
     "exception": false,
     "start_time": "2024-01-15T12:22:04.231270",
     "status": "completed"
    },
    "tags": []
   },
   "outputs": [
    {
     "data": {
      "text/html": [
       "<div>\n",
       "<style scoped>\n",
       "    .dataframe tbody tr th:only-of-type {\n",
       "        vertical-align: middle;\n",
       "    }\n",
       "\n",
       "    .dataframe tbody tr th {\n",
       "        vertical-align: top;\n",
       "    }\n",
       "\n",
       "    .dataframe thead th {\n",
       "        text-align: right;\n",
       "    }\n",
       "</style>\n",
       "<table border=\"1\" class=\"dataframe\">\n",
       "  <thead>\n",
       "    <tr style=\"text-align: right;\">\n",
       "      <th></th>\n",
       "      <th>title</th>\n",
       "      <th>author</th>\n",
       "      <th>date</th>\n",
       "      <th>views</th>\n",
       "      <th>likes</th>\n",
       "      <th>link</th>\n",
       "      <th>month</th>\n",
       "      <th>year</th>\n",
       "    </tr>\n",
       "  </thead>\n",
       "  <tbody>\n",
       "    <tr>\n",
       "      <th>0</th>\n",
       "      <td>Climate action needs new frontline leadership</td>\n",
       "      <td>Ozawa Bineshi Albert</td>\n",
       "      <td>December 2021</td>\n",
       "      <td>404000</td>\n",
       "      <td>12000</td>\n",
       "      <td>https://ted.com/talks/ozawa_bineshi_albert_cli...</td>\n",
       "      <td>December</td>\n",
       "      <td>2021</td>\n",
       "    </tr>\n",
       "    <tr>\n",
       "      <th>1</th>\n",
       "      <td>The dark history of the overthrow of Hawaii</td>\n",
       "      <td>Sydney Iaukea</td>\n",
       "      <td>February 2022</td>\n",
       "      <td>214000</td>\n",
       "      <td>6400</td>\n",
       "      <td>https://ted.com/talks/sydney_iaukea_the_dark_h...</td>\n",
       "      <td>February</td>\n",
       "      <td>2022</td>\n",
       "    </tr>\n",
       "    <tr>\n",
       "      <th>2</th>\n",
       "      <td>How play can spark new ideas for your business</td>\n",
       "      <td>Martin Reeves</td>\n",
       "      <td>September 2021</td>\n",
       "      <td>412000</td>\n",
       "      <td>12000</td>\n",
       "      <td>https://ted.com/talks/martin_reeves_how_play_c...</td>\n",
       "      <td>September</td>\n",
       "      <td>2021</td>\n",
       "    </tr>\n",
       "    <tr>\n",
       "      <th>3</th>\n",
       "      <td>Why is China appointing judges to combat clima...</td>\n",
       "      <td>James K. Thornton</td>\n",
       "      <td>October 2021</td>\n",
       "      <td>427000</td>\n",
       "      <td>12000</td>\n",
       "      <td>https://ted.com/talks/james_k_thornton_why_is_...</td>\n",
       "      <td>October</td>\n",
       "      <td>2021</td>\n",
       "    </tr>\n",
       "    <tr>\n",
       "      <th>4</th>\n",
       "      <td>Cement's carbon problem — and 2 ways to fix it</td>\n",
       "      <td>Mahendra Singhi</td>\n",
       "      <td>October 2021</td>\n",
       "      <td>2400</td>\n",
       "      <td>72</td>\n",
       "      <td>https://ted.com/talks/mahendra_singhi_cement_s...</td>\n",
       "      <td>October</td>\n",
       "      <td>2021</td>\n",
       "    </tr>\n",
       "  </tbody>\n",
       "</table>\n",
       "</div>"
      ],
      "text/plain": [
       "                                               title                author  \\\n",
       "0      Climate action needs new frontline leadership  Ozawa Bineshi Albert   \n",
       "1        The dark history of the overthrow of Hawaii         Sydney Iaukea   \n",
       "2     How play can spark new ideas for your business         Martin Reeves   \n",
       "3  Why is China appointing judges to combat clima...     James K. Thornton   \n",
       "4     Cement's carbon problem — and 2 ways to fix it       Mahendra Singhi   \n",
       "\n",
       "             date   views  likes  \\\n",
       "0   December 2021  404000  12000   \n",
       "1   February 2022  214000   6400   \n",
       "2  September 2021  412000  12000   \n",
       "3    October 2021  427000  12000   \n",
       "4    October 2021    2400     72   \n",
       "\n",
       "                                                link      month  year  \n",
       "0  https://ted.com/talks/ozawa_bineshi_albert_cli...   December  2021  \n",
       "1  https://ted.com/talks/sydney_iaukea_the_dark_h...   February  2022  \n",
       "2  https://ted.com/talks/martin_reeves_how_play_c...  September  2021  \n",
       "3  https://ted.com/talks/james_k_thornton_why_is_...    October  2021  \n",
       "4  https://ted.com/talks/mahendra_singhi_cement_s...    October  2021  "
      ]
     },
     "execution_count": 14,
     "metadata": {},
     "output_type": "execute_result"
    }
   ],
   "source": [
    "df['month'] = df['date'].str.split(\" \").str[0]\n",
    "df['year'] = df['date'].str.split(\" \").str[1]\n",
    "df.head()"
   ]
  },
  {
   "cell_type": "code",
   "execution_count": 15,
   "id": "a6a26e1c",
   "metadata": {
    "execution": {
     "iopub.execute_input": "2024-01-15T12:22:04.384543Z",
     "iopub.status.busy": "2024-01-15T12:22:04.383344Z",
     "iopub.status.idle": "2024-01-15T12:22:04.720529Z",
     "shell.execute_reply": "2024-01-15T12:22:04.719898Z",
     "shell.execute_reply.started": "2024-01-14T10:36:15.103763Z"
    },
    "papermill": {
     "duration": 0.378981,
     "end_time": "2024-01-15T12:22:04.720713",
     "exception": false,
     "start_time": "2024-01-15T12:22:04.341732",
     "status": "completed"
    },
    "tags": []
   },
   "outputs": [
    {
     "data": {
      "image/png": "[encoded data removed]",
      "text/plain": [
       "<Figure size 640x480 with 1 Axes>"
      ]
     },
     "metadata": {},
     "output_type": "display_data"
    }
   ],
   "source": [
    "plt.title(\"Month wise TED Talks Frequency\")\n",
    "sns.countplot(x ='month',data = df)\n",
    "plt.xticks(rotation = 30,ha='right')\n",
    "plt.show()"
   ]
  },
  {
   "cell_type": "markdown",
   "id": "1d340ce1",
   "metadata": {
    "papermill": {
     "duration": 0.032147,
     "end_time": "2024-01-15T12:22:04.787304",
     "exception": false,
     "start_time": "2024-01-15T12:22:04.755157",
     "status": "completed"
    },
    "tags": []
   },
   "source": [
    "# Year wise analysis of TED Talks frequency"
   ]
  },
  {
   "cell_type": "code",
   "execution_count": 16,
   "id": "b307368c",
   "metadata": {
    "execution": {
     "iopub.execute_input": "2024-01-15T12:22:04.860390Z",
     "iopub.status.busy": "2024-01-15T12:22:04.859611Z",
     "iopub.status.idle": "2024-01-15T12:22:05.312330Z",
     "shell.execute_reply": "2024-01-15T12:22:05.311659Z",
     "shell.execute_reply.started": "2024-01-14T10:36:15.378916Z"
    },
    "papermill": {
     "duration": 0.491174,
     "end_time": "2024-01-15T12:22:05.312513",
     "exception": false,
     "start_time": "2024-01-15T12:22:04.821339",
     "status": "completed"
    },
    "tags": []
   },
   "outputs": [
    {
     "data": {
      "text/plain": [
       "<AxesSubplot:xlabel='year'>"
      ]
     },
     "execution_count": 16,
     "metadata": {},
     "output_type": "execute_result"
    },
    {
     "data": {
      "image/png": "[encoded data removed]",
      "text/plain": [
       "<Figure size 640x480 with 1 Axes>"
      ]
     },
     "metadata": {},
     "output_type": "display_data"
    }
   ],
   "source": [
    "df.groupby('year').size().plot(kind = 'bar')"
   ]
  },
  {
   "cell_type": "markdown",
   "id": "ff25b237",
   "metadata": {
    "papermill": {
     "duration": 0.034566,
     "end_time": "2024-01-15T12:22:05.382703",
     "exception": false,
     "start_time": "2024-01-15T12:22:05.348137",
     "status": "completed"
    },
    "tags": []
   },
   "source": [
    "# Finding TED Talks of your favorite author"
   ]
  },
  {
   "cell_type": "code",
   "execution_count": 17,
   "id": "ee7e8163",
   "metadata": {
    "execution": {
     "iopub.execute_input": "2024-01-15T12:22:05.457216Z",
     "iopub.status.busy": "2024-01-15T12:22:05.456064Z",
     "iopub.status.idle": "2024-01-15T12:22:05.474365Z",
     "shell.execute_reply": "2024-01-15T12:22:05.475127Z",
     "shell.execute_reply.started": "2024-01-14T10:36:15.823269Z"
    },
    "papermill": {
     "duration": 0.058391,
     "end_time": "2024-01-15T12:22:05.475331",
     "exception": false,
     "start_time": "2024-01-15T12:22:05.416940",
     "status": "completed"
    },
    "tags": []
   },
   "outputs": [
    {
     "data": {
      "text/html": [
       "<div>\n",
       "<style scoped>\n",
       "    .dataframe tbody tr th:only-of-type {\n",
       "        vertical-align: middle;\n",
       "    }\n",
       "\n",
       "    .dataframe tbody tr th {\n",
       "        vertical-align: top;\n",
       "    }\n",
       "\n",
       "    .dataframe thead th {\n",
       "        text-align: right;\n",
       "    }\n",
       "</style>\n",
       "<table border=\"1\" class=\"dataframe\">\n",
       "  <thead>\n",
       "    <tr style=\"text-align: right;\">\n",
       "      <th></th>\n",
       "      <th>title</th>\n",
       "      <th>author</th>\n",
       "      <th>date</th>\n",
       "      <th>views</th>\n",
       "      <th>likes</th>\n",
       "      <th>link</th>\n",
       "      <th>month</th>\n",
       "      <th>year</th>\n",
       "    </tr>\n",
       "  </thead>\n",
       "  <tbody>\n",
       "    <tr>\n",
       "      <th>3</th>\n",
       "      <td>Why is China appointing judges to combat clima...</td>\n",
       "      <td>James K. Thornton</td>\n",
       "      <td>October 2021</td>\n",
       "      <td>427000</td>\n",
       "      <td>12000</td>\n",
       "      <td>https://ted.com/talks/james_k_thornton_why_is_...</td>\n",
       "      <td>October</td>\n",
       "      <td>2021</td>\n",
       "    </tr>\n",
       "  </tbody>\n",
       "</table>\n",
       "</div>"
      ],
      "text/plain": [
       "                                               title             author  \\\n",
       "3  Why is China appointing judges to combat clima...  James K. Thornton   \n",
       "\n",
       "           date   views  likes  \\\n",
       "3  October 2021  427000  12000   \n",
       "\n",
       "                                                link    month  year  \n",
       "3  https://ted.com/talks/james_k_thornton_why_is_...  October  2021  "
      ]
     },
     "execution_count": 17,
     "metadata": {},
     "output_type": "execute_result"
    }
   ],
   "source": [
    "df[df['author'] == \"James K. Thornton\"]"
   ]
  },
  {
   "cell_type": "markdown",
   "id": "38c04651",
   "metadata": {
    "papermill": {
     "duration": 0.034163,
     "end_time": "2024-01-15T12:22:05.543917",
     "exception": false,
     "start_time": "2024-01-15T12:22:05.509754",
     "status": "completed"
    },
    "tags": []
   },
   "source": [
    "# Finding the most popular TED talks Speaker (in terms of number of views)"
   ]
  },
  {
   "cell_type": "code",
   "execution_count": 18,
   "id": "847d78e4",
   "metadata": {
    "execution": {
     "iopub.execute_input": "2024-01-15T12:22:05.618226Z",
     "iopub.status.busy": "2024-01-15T12:22:05.617407Z",
     "iopub.status.idle": "2024-01-15T12:22:05.638477Z",
     "shell.execute_reply": "2024-01-15T12:22:05.639051Z",
     "shell.execute_reply.started": "2024-01-14T10:36:15.846550Z"
    },
    "papermill": {
     "duration": 0.059874,
     "end_time": "2024-01-15T12:22:05.639277",
     "exception": false,
     "start_time": "2024-01-15T12:22:05.579403",
     "status": "completed"
    },
    "tags": []
   },
   "outputs": [
    {
     "data": {
      "text/plain": [
       "author\n",
       "Alex Gendler        187196000\n",
       "Sir Ken Robinson     95654000\n",
       "Bill Gates           77800000\n",
       "Simon Sinek          74800000\n",
       "Brené Brown          72000000\n",
       "Name: views, dtype: int64"
      ]
     },
     "execution_count": 18,
     "metadata": {},
     "output_type": "execute_result"
    }
   ],
   "source": [
    "df.groupby('author').sum()['views'].sort_values(ascending = False).head()"
   ]
  },
  {
   "cell_type": "code",
   "execution_count": null,
   "id": "d55ef6da",
   "metadata": {},
   "outputs": [],
   "source": []
  }
 ],
 "metadata": {
  "kaggle": {
   "accelerator": "none",
   "dataSources": [
    {
     "datasetId": 1953192,
     "sourceId": 3220424,
     "sourceType": "datasetVersion"
    }
   ],
   "dockerImageVersionId": 30176,
   "isGpuEnabled": false,
   "isInternetEnabled": true,
   "language": "python",
   "sourceType": "notebook"
  },
  "kernelspec": {
   "display_name": "Python 3 (ipykernel)",
   "language": "python",
   "name": "python3"
  },
  "language_info": {
   "codemirror_mode": {
    "name": "ipython",
    "version": 3
   },
   "file_extension": ".py",
   "mimetype": "text/x-python",
   "name": "python",
   "nbconvert_exporter": "python",
   "pygments_lexer": "ipython3",
   "version": "3.9.13"
  },
  "papermill": {
   "default_parameters": {},
   "duration": 17.193315,
   "end_time": "2024-01-15T12:22:06.487181",
   "environment_variables": {},
   "exception": null,
   "input_path": "__notebook__.ipynb",
   "output_path": "__notebook__.ipynb",
   "parameters": {},
   "start_time": "2024-01-15T12:21:49.293866",
   "version": "2.3.3"
  }
 },
 "nbformat": 4,
 "nbformat_minor": 5
}
